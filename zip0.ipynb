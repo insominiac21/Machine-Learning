{
  "metadata": {
    "kernelspec": {
      "language": "python",
      "display_name": "Python 3",
      "name": "python3"
    },
    "language_info": {
      "name": "python",
      "version": "3.10.13",
      "mimetype": "text/x-python",
      "codemirror_mode": {
        "name": "ipython",
        "version": 3
      },
      "pygments_lexer": "ipython3",
      "nbconvert_exporter": "python",
      "file_extension": ".py"
    },
    "kaggle": {
      "accelerator": "none",
      "dataSources": [
        {
          "sourceId": 104884,
          "sourceType": "datasetVersion",
          "datasetId": 54339
        }
      ],
      "dockerImageVersionId": 30732,
      "isInternetEnabled": true,
      "language": "python",
      "sourceType": "notebook",
      "isGpuEnabled": false
    },
    "colab": {
      "name": "notebooke9f2522b00",
      "provenance": [],
      "include_colab_link": true
    }
  },
  "nbformat_minor": 0,
  "nbformat": 4,
  "cells": [
    {
      "cell_type": "markdown",
      "metadata": {
        "id": "view-in-github",
        "colab_type": "text"
      },
      "source": [
        "<a href=\"https://colab.research.google.com/github/insominiac21/Machine-Learning/blob/main/zip0.ipynb\" target=\"_parent\"><img src=\"https://colab.research.google.com/assets/colab-badge.svg\" alt=\"Open In Colab\"/></a>"
      ]
    },
    {
      "source": [
        "\n",
        "# IMPORTANT: RUN THIS CELL IN ORDER TO IMPORT YOUR KAGGLE DATA SOURCES\n",
        "# TO THE CORRECT LOCATION (/kaggle/input) IN YOUR NOTEBOOK,\n",
        "# THEN FEEL FREE TO DELETE THIS CELL.\n",
        "# NOTE: THIS NOTEBOOK ENVIRONMENT DIFFERS FROM KAGGLE'S PYTHON\n",
        "# ENVIRONMENT SO THERE MAY BE MISSING LIBRARIES USED BY YOUR\n",
        "# NOTEBOOK.\n",
        "\n",
        "import os\n",
        "import sys\n",
        "from tempfile import NamedTemporaryFile\n",
        "from urllib.request import urlopen\n",
        "from urllib.parse import unquote, urlparse\n",
        "from urllib.error import HTTPError\n",
        "from zipfile import ZipFile\n",
        "import tarfile\n",
        "import shutil\n",
        "\n",
        "CHUNK_SIZE = 40960\n",
        "DATA_SOURCE_MAPPING = 'skin-cancer-mnist-ham10000:https%3A%2F%2Fstorage.googleapis.com%2Fkaggle-data-sets%2F54339%2F104884%2Fbundle%2Farchive.zip%3FX-Goog-Algorithm%3DGOOG4-RSA-SHA256%26X-Goog-Credential%3Dgcp-kaggle-com%2540kaggle-161607.iam.gserviceaccount.com%252F20240627%252Fauto%252Fstorage%252Fgoog4_request%26X-Goog-Date%3D20240627T093128Z%26X-Goog-Expires%3D259200%26X-Goog-SignedHeaders%3Dhost%26X-Goog-Signature%3D806ce1217cdda60b12c7a059f41119a0e99bb269a1aea2718ea5699af92e68768b8ef9a9ca552a54a74defa47046753867f7c705eb28c902c5b99c05691d725b067c726ac869aff5cdd82aee5c4cfdf40959a3708da2083adbccf665156ec43017b2dc16a75e2b7809465d227532a42d4853b2cb84c00bf0b67da0c70118fd00fac647f672f63069944901dd9ecefb4dc2f86169117084edcfb3b9de07c58dd8661e259f87d55ed386fccd2337e6280116241f87853a4d835de86e8295f0f40bda6709372f5e201fac6cd0669c01c61241778ad9c0dbfcd3c76081caa3ff73c668a9866630d81c84e1dc29735b360e6bd858021d52d9b2e73c0d4b1693183f0e'\n",
        "\n",
        "KAGGLE_INPUT_PATH='/kaggle/input'\n",
        "KAGGLE_WORKING_PATH='/kaggle/working'\n",
        "KAGGLE_SYMLINK='kaggle'\n",
        "\n",
        "!umount /kaggle/input/ 2> /dev/null\n",
        "shutil.rmtree('/kaggle/input', ignore_errors=True)\n",
        "os.makedirs(KAGGLE_INPUT_PATH, 0o777, exist_ok=True)\n",
        "os.makedirs(KAGGLE_WORKING_PATH, 0o777, exist_ok=True)\n",
        "\n",
        "try:\n",
        "  os.symlink(KAGGLE_INPUT_PATH, os.path.join(\"..\", 'input'), target_is_directory=True)\n",
        "except FileExistsError:\n",
        "  pass\n",
        "try:\n",
        "  os.symlink(KAGGLE_WORKING_PATH, os.path.join(\"..\", 'working'), target_is_directory=True)\n",
        "except FileExistsError:\n",
        "  pass\n",
        "\n",
        "for data_source_mapping in DATA_SOURCE_MAPPING.split(','):\n",
        "    directory, download_url_encoded = data_source_mapping.split(':')\n",
        "    download_url = unquote(download_url_encoded)\n",
        "    filename = urlparse(download_url).path\n",
        "    destination_path = os.path.join(KAGGLE_INPUT_PATH, directory)\n",
        "    try:\n",
        "        with urlopen(download_url) as fileres, NamedTemporaryFile() as tfile:\n",
        "            total_length = fileres.headers['content-length']\n",
        "            print(f'Downloading {directory}, {total_length} bytes compressed')\n",
        "            dl = 0\n",
        "            data = fileres.read(CHUNK_SIZE)\n",
        "            while len(data) > 0:\n",
        "                dl += len(data)\n",
        "                tfile.write(data)\n",
        "                done = int(50 * dl / int(total_length))\n",
        "                sys.stdout.write(f\"\\r[{'=' * done}{' ' * (50-done)}] {dl} bytes downloaded\")\n",
        "                sys.stdout.flush()\n",
        "                data = fileres.read(CHUNK_SIZE)\n",
        "            if filename.endswith('.zip'):\n",
        "              with ZipFile(tfile) as zfile:\n",
        "                zfile.extractall(destination_path)\n",
        "            else:\n",
        "              with tarfile.open(tfile.name) as tarfile:\n",
        "                tarfile.extractall(destination_path)\n",
        "            print(f'\\nDownloaded and uncompressed: {directory}')\n",
        "    except HTTPError as e:\n",
        "        print(f'Failed to load (likely expired) {download_url} to path {destination_path}')\n",
        "        continue\n",
        "    except OSError as e:\n",
        "        print(f'Failed to load {download_url} to path {destination_path}')\n",
        "        continue\n",
        "\n",
        "print('Data source import complete.')\n"
      ],
      "metadata": {
        "id": "BcXqgFydCTD_",
        "outputId": "dfbf6819-a850-4d94-fc96-74ddf321bd8a",
        "colab": {
          "base_uri": "https://localhost:8080/"
        }
      },
      "cell_type": "code",
      "outputs": [
        {
          "output_type": "stream",
          "name": "stdout",
          "text": [
            "Downloading skin-cancer-mnist-ham10000, 5582914511 bytes compressed\n",
            "[==================================================] 5582914511 bytes downloaded\n",
            "Downloaded and uncompressed: skin-cancer-mnist-ham10000\n",
            "Data source import complete.\n"
          ]
        }
      ],
      "execution_count": 1
    },
    {
      "cell_type": "code",
      "source": [
        "import os\n",
        "import shutil\n",
        "import pandas as pd\n",
        "import zipfile\n",
        "\n",
        "# Define the paths\n",
        "metadata_path = '/kaggle/input/skin-cancer-mnist-ham10000/HAM10000_metadata.csv'  # Adjust this path if needed\n",
        "images_path_1 = '/kaggle/input/skin-cancer-mnist-ham10000/HAM10000_images_part_1'  # Adjust this path if needed\n",
        "images_path_2 = '/kaggle/input/skin-cancer-mnist-ham10000/HAM10000_images_part_2'  # Adjust this path if needed\n",
        "output_dir = '/content/'  # Path to the output directory in Kaggle\n",
        "\n",
        "# Create the output directories if they don't exist\n",
        "labels = ['nv', 'mel', 'bkl', 'bcc', 'akiec', 'vasc', 'df']\n",
        "for label in labels:\n",
        "    os.makedirs(os.path.join(output_dir, label), exist_ok=True)\n",
        "\n",
        "# Load the metadata\n",
        "metadata = pd.read_csv(metadata_path)\n",
        "\n",
        "# Function to copy images\n",
        "def copy_image(source_dir, image_name, destination_dir):\n",
        "    source = os.path.join(source_dir, image_name)\n",
        "    destination = os.path.join(destination_dir, image_name)\n",
        "\n",
        "    if os.path.exists(source):\n",
        "        shutil.copy2(source, destination)\n",
        "    else:\n",
        "        return False\n",
        "    return True\n",
        "\n",
        "# Copy the images to the corresponding directories\n",
        "for index, row in metadata.iterrows():\n",
        "    image_name = row['image_id'] + '.jpg'\n",
        "    label = row['dx']\n",
        "    destination_dir = os.path.join(output_dir, label)\n",
        "\n",
        "    # Try to copy from the first images directory\n",
        "    if not copy_image(images_path_1, image_name, destination_dir):\n",
        "        # If not found, try to copy from the second images directory\n",
        "        if not copy_image(images_path_2, image_name, destination_dir):\n",
        "            print(f\"Image {image_name} not found in either source directory.\")\n",
        "\n",
        "# Zip the output directory\n",
        "shutil.make_archive('/content/zip', 'zip', output_dir)\n",
        "\n",
        "print(\"Images have been copied into directories based on their diagnosis labels and zipped.\")"
      ],
      "metadata": {
        "_uuid": "8f2839f25d086af736a60e9eeb907d3b93b6e0e5",
        "_cell_guid": "b1076dfc-b9ad-4769-8c92-a6c4dae69d19",
        "execution": {
          "iopub.status.busy": "2024-06-27T09:23:27.798062Z",
          "iopub.execute_input": "2024-06-27T09:23:27.798512Z",
          "iopub.status.idle": "2024-06-27T09:27:48.316909Z",
          "shell.execute_reply.started": "2024-06-27T09:23:27.798475Z",
          "shell.execute_reply": "2024-06-27T09:27:48.315416Z"
        },
        "trusted": true,
        "id": "fS11TBJfCTEC",
        "outputId": "e1b973c8-1053-4e0d-9fbf-81c537f0a37d",
        "colab": {
          "base_uri": "https://localhost:8080/"
        }
      },
      "execution_count": 4,
      "outputs": [
        {
          "output_type": "stream",
          "name": "stdout",
          "text": [
            "Images have been copied into directories based on their diagnosis labels and zipped.\n"
          ]
        }
      ]
    }
  ]
}